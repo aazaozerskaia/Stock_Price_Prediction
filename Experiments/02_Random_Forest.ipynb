{
 "cells": [
  {
   "cell_type": "code",
   "execution_count": 1,
   "metadata": {
    "id": "HQK4WZ9MIhqK"
   },
   "outputs": [],
   "source": [
    "import pandas as pd\n",
    "import numpy as np\n",
    "import matplotlib.pyplot as plt\n",
    "import seaborn as sns\n",
    "from tqdm import tqdm\n",
    "import itertools\n",
    "import bs4 as bs\n",
    "import requests\n",
    "import datetime as dt\n",
    "from datetime import datetime, timedelta\n",
    "import time\n",
    "import timeit\n",
    "import os\n",
    "import pandas_datareader.data as pdr\n",
    "from math import sqrt\n",
    "import operator\n",
    "from functools import reduce\n",
    "import joblib\n",
    "import pickle\n",
    "\n",
    "from catboost import CatBoostRegressor\n",
    "from catboost import Pool, cv\n",
    "from sklearn.preprocessing import MinMaxScaler, LabelEncoder\n",
    "from sklearn.ensemble import RandomForestRegressor\n",
    "from sklearn.metrics import mean_absolute_error, mean_absolute_percentage_error, mean_squared_error\n",
    "from catboost import CatBoostRegressor\n",
    "from catboost import Pool, cv"
   ]
  },
  {
   "cell_type": "code",
   "execution_count": 2,
   "metadata": {
    "id": "50dhp6XpAELH"
   },
   "outputs": [],
   "source": [
    "%matplotlib inline"
   ]
  },
  {
   "cell_type": "code",
   "execution_count": 3,
   "metadata": {
    "id": "ZM4PJiZKz-Ei"
   },
   "outputs": [],
   "source": [
    "# !pip install pmdarima\n",
    "# !pip install yfinance\n",
    "# !pip install optuna\n",
    "# !pip install catboost"
   ]
  },
  {
   "cell_type": "code",
   "execution_count": 4,
   "metadata": {
    "id": "FPyuRwbvwsq4"
   },
   "outputs": [],
   "source": [
    "import optuna\n",
    "import yfinance as yf"
   ]
  },
  {
   "cell_type": "code",
   "execution_count": 5,
   "metadata": {
    "id": "V0hCCwNEvug-"
   },
   "outputs": [],
   "source": [
    "import warnings\n",
    "warnings.filterwarnings(\"ignore\")"
   ]
  },
  {
   "cell_type": "code",
   "execution_count": 6,
   "metadata": {},
   "outputs": [],
   "source": [
    "# !wget -q https://raw.githubusercontent.com/aazaozerskaia/Stock_Price_Prediction/main/utils/parser_yf.py\n",
    "# !wget -q https://raw.githubusercontent.com/aazaozerskaia/Stock_Price_Prediction/main/utils/preprocessing.py\n",
    "# !wget -q https://raw.githubusercontent.com/aazaozerskaia/Stock_Price_Prediction/main/utils/feature_engineering.py\n",
    "# !wget -q https://raw.githubusercontent.com/aazaozerskaia/Stock_Price_Prediction/main/utils/ts_features.py  \n",
    "# !wget -q https://raw.githubusercontent.com/aazaozerskaia/Stock_Price_Prediction/main/utils/LSTM_ts_loaders.py"
   ]
  },
  {
   "cell_type": "code",
   "execution_count": 7,
   "metadata": {},
   "outputs": [],
   "source": [
    "from preprocessing import data_preprocessing \n",
    "from feature_engineering import feature_engineering\n",
    "from ts_features import ts_features"
   ]
  },
  {
   "cell_type": "markdown",
   "metadata": {
    "id": "4ELdNT4wU7z-"
   },
   "source": [
    "### Data preprocessing and Feature engineering "
   ]
  },
  {
   "cell_type": "markdown",
   "metadata": {
    "colab": {
     "base_uri": "https://localhost:8080/"
    },
    "id": "B3qRq3NiWQM5",
    "outputId": "8e7011b8-11e1-4b0c-f41c-bd3f7b8b932b"
   },
   "source": [
    "snp = yf.download('%5EGSPC', start='2010-01-01', end='2023-03-31')\n",
    "snp.columns = snp.columns.str.lower()"
   ]
  },
  {
   "cell_type": "code",
   "execution_count": 8,
   "metadata": {
    "id": "O0dKXtj1PLuW"
   },
   "outputs": [],
   "source": [
    "df = pd.read_csv('sp500_raw.csv', parse_dates=['date'])"
   ]
  },
  {
   "cell_type": "code",
   "execution_count": 9,
   "metadata": {
    "colab": {
     "base_uri": "https://localhost:8080/"
    },
    "id": "tRMevz0VvuhR",
    "outputId": "3d8e7afe-17fd-49d6-9fba-3df38c32f10f"
   },
   "outputs": [
    {
     "name": "stdout",
     "output_type": "stream",
     "text": [
      "CPU times: user 1min 27s, sys: 656 ms, total: 1min 28s\n",
      "Wall time: 1min 28s\n"
     ]
    }
   ],
   "source": [
    "%%time\n",
    "\n",
    "categorical_cols = ['symbol', 'gics sector', 'gics sub-industry']\n",
    "dff = data_preprocessing(df).preprocessing_steps()\n",
    "\n",
    "fe = feature_engineering(dff, cat_features=categorical_cols)\n",
    "dff = fe.get_data()\n",
    "enc_dict = fe.get_enc_dict()\n",
    "\n",
    "dff = ts_features(dff, y='adj close_norm', lag_orders=[7,8,9,10,11,12,13], ma_windows=[7]).add_features()"
   ]
  },
  {
   "cell_type": "code",
   "execution_count": 10,
   "metadata": {
    "colab": {
     "base_uri": "https://localhost:8080/",
     "height": 597
    },
    "id": "wYYGCvbjHr4p",
    "outputId": "36e0c3dc-0699-4fb2-c2ff-341ad5970137"
   },
   "outputs": [
    {
     "data": {
      "text/html": [
       "<div>\n",
       "<style scoped>\n",
       "    .dataframe tbody tr th:only-of-type {\n",
       "        vertical-align: middle;\n",
       "    }\n",
       "\n",
       "    .dataframe tbody tr th {\n",
       "        vertical-align: top;\n",
       "    }\n",
       "\n",
       "    .dataframe thead th {\n",
       "        text-align: right;\n",
       "    }\n",
       "</style>\n",
       "<table border=\"1\" class=\"dataframe\">\n",
       "  <thead>\n",
       "    <tr style=\"text-align: right;\">\n",
       "      <th></th>\n",
       "      <th>date</th>\n",
       "      <th>open</th>\n",
       "      <th>high</th>\n",
       "      <th>low</th>\n",
       "      <th>close</th>\n",
       "      <th>adj close</th>\n",
       "      <th>volume</th>\n",
       "      <th>symbol</th>\n",
       "      <th>gics sector</th>\n",
       "      <th>gics sub-industry</th>\n",
       "      <th>...</th>\n",
       "      <th>adj close_norm</th>\n",
       "      <th>lag_7_adj close_norm</th>\n",
       "      <th>lag_8_adj close_norm</th>\n",
       "      <th>lag_9_adj close_norm</th>\n",
       "      <th>lag_10_adj close_norm</th>\n",
       "      <th>lag_11_adj close_norm</th>\n",
       "      <th>lag_12_adj close_norm</th>\n",
       "      <th>lag_13_adj close_norm</th>\n",
       "      <th>ma_7_adj close_norm</th>\n",
       "      <th>ma_7_lag_adj close_norm</th>\n",
       "    </tr>\n",
       "  </thead>\n",
       "  <tbody>\n",
       "    <tr>\n",
       "      <th>0</th>\n",
       "      <td>2013-02-01</td>\n",
       "      <td>31.50</td>\n",
       "      <td>31.74</td>\n",
       "      <td>30.469999</td>\n",
       "      <td>31.010000</td>\n",
       "      <td>28.823187</td>\n",
       "      <td>66789100</td>\n",
       "      <td>502</td>\n",
       "      <td>5</td>\n",
       "      <td>98</td>\n",
       "      <td>...</td>\n",
       "      <td>0.004720</td>\n",
       "      <td>0.0</td>\n",
       "      <td>0.0</td>\n",
       "      <td>0.0</td>\n",
       "      <td>0.0</td>\n",
       "      <td>0.0</td>\n",
       "      <td>0.0</td>\n",
       "      <td>0.0</td>\n",
       "      <td>0.004720</td>\n",
       "      <td>0.0</td>\n",
       "    </tr>\n",
       "    <tr>\n",
       "      <th>1</th>\n",
       "      <td>2013-02-04</td>\n",
       "      <td>31.09</td>\n",
       "      <td>31.99</td>\n",
       "      <td>30.760000</td>\n",
       "      <td>31.020000</td>\n",
       "      <td>28.832491</td>\n",
       "      <td>7695400</td>\n",
       "      <td>502</td>\n",
       "      <td>5</td>\n",
       "      <td>98</td>\n",
       "      <td>...</td>\n",
       "      <td>0.004721</td>\n",
       "      <td>0.0</td>\n",
       "      <td>0.0</td>\n",
       "      <td>0.0</td>\n",
       "      <td>0.0</td>\n",
       "      <td>0.0</td>\n",
       "      <td>0.0</td>\n",
       "      <td>0.0</td>\n",
       "      <td>0.004721</td>\n",
       "      <td>0.0</td>\n",
       "    </tr>\n",
       "    <tr>\n",
       "      <th>2</th>\n",
       "      <td>2013-02-05</td>\n",
       "      <td>31.25</td>\n",
       "      <td>31.98</td>\n",
       "      <td>30.850000</td>\n",
       "      <td>31.040001</td>\n",
       "      <td>28.851086</td>\n",
       "      <td>5013200</td>\n",
       "      <td>502</td>\n",
       "      <td>5</td>\n",
       "      <td>98</td>\n",
       "      <td>...</td>\n",
       "      <td>0.004724</td>\n",
       "      <td>0.0</td>\n",
       "      <td>0.0</td>\n",
       "      <td>0.0</td>\n",
       "      <td>0.0</td>\n",
       "      <td>0.0</td>\n",
       "      <td>0.0</td>\n",
       "      <td>0.0</td>\n",
       "      <td>0.004722</td>\n",
       "      <td>0.0</td>\n",
       "    </tr>\n",
       "  </tbody>\n",
       "</table>\n",
       "<p>3 rows × 23 columns</p>\n",
       "</div>"
      ],
      "text/plain": [
       "        date   open   high        low      close  adj close    volume  symbol  \\\n",
       "0 2013-02-01  31.50  31.74  30.469999  31.010000  28.823187  66789100     502   \n",
       "1 2013-02-04  31.09  31.99  30.760000  31.020000  28.832491   7695400     502   \n",
       "2 2013-02-05  31.25  31.98  30.850000  31.040001  28.851086   5013200     502   \n",
       "\n",
       "   gics sector  gics sub-industry  ...  adj close_norm  lag_7_adj close_norm  \\\n",
       "0            5                 98  ...        0.004720                   0.0   \n",
       "1            5                 98  ...        0.004721                   0.0   \n",
       "2            5                 98  ...        0.004724                   0.0   \n",
       "\n",
       "   lag_8_adj close_norm  lag_9_adj close_norm  lag_10_adj close_norm  \\\n",
       "0                   0.0                   0.0                    0.0   \n",
       "1                   0.0                   0.0                    0.0   \n",
       "2                   0.0                   0.0                    0.0   \n",
       "\n",
       "   lag_11_adj close_norm  lag_12_adj close_norm  lag_13_adj close_norm  \\\n",
       "0                    0.0                    0.0                    0.0   \n",
       "1                    0.0                    0.0                    0.0   \n",
       "2                    0.0                    0.0                    0.0   \n",
       "\n",
       "   ma_7_adj close_norm  ma_7_lag_adj close_norm  \n",
       "0             0.004720                      0.0  \n",
       "1             0.004721                      0.0  \n",
       "2             0.004722                      0.0  \n",
       "\n",
       "[3 rows x 23 columns]"
      ]
     },
     "execution_count": 10,
     "metadata": {},
     "output_type": "execute_result"
    }
   ],
   "source": [
    "dff.head(3)"
   ]
  },
  {
   "cell_type": "markdown",
   "metadata": {
    "id": "iGZWh6m7XkIB"
   },
   "source": [
    "### Experiments"
   ]
  },
  {
   "cell_type": "code",
   "execution_count": 11,
   "metadata": {
    "id": "h_GysQaPvuhS"
   },
   "outputs": [],
   "source": [
    "def evaluate_res(predictions, actual) -> dict:\n",
    "    '''Calculate metrics'''\n",
    "    metrics_dict = {}\n",
    "    metrics_dict['RMSE'] = round(sqrt(mean_squared_error(actual, predictions)), 3)\n",
    "    metrics_dict['MAE'] = round(mean_absolute_error(actual, predictions), 3)\n",
    "    metrics_dict['MAPE'] = round(mean_absolute_percentage_error(actual, predictions), 3)\n",
    "    return metrics_dict"
   ]
  },
  {
   "cell_type": "code",
   "execution_count": 33,
   "metadata": {
    "id": "VWfsrEjovuhS"
   },
   "outputs": [],
   "source": [
    "days = ['2023-03-01', '2023-03-02', '2023-03-03', '2023-03-06', '2023-03-07', '2023-03-08', '2023-03-09']\n",
    "days2 = ['2023-03-10', '2023-03-13', '2023-03-14', '2023-03-15', '2023-03-16', '2023-03-17', '2023-03-20']"
   ]
  },
  {
   "cell_type": "markdown",
   "metadata": {
    "id": "oPm976gudIDV"
   },
   "source": [
    "### RF experiments"
   ]
  },
  {
   "cell_type": "markdown",
   "metadata": {},
   "source": [
    "**All tickers**"
   ]
  },
  {
   "cell_type": "code",
   "execution_count": 13,
   "metadata": {},
   "outputs": [],
   "source": [
    "def training_rf(X_train, y_train, X_test, y_test, days, params=None):\n",
    "    \"\"\"Training and evaluting RF\"\"\"\n",
    "    if params is None:\n",
    "        params = {'n_estimators': 100, 'random_state': 42}\n",
    "    \n",
    "    rf = RandomForestRegressor(**params)\n",
    "    rf.fit(X_train, y_train)\n",
    "    pred = rf.predict(X_test)\n",
    "    rescaled_pred = enc_dict['scaler'].inverse_transform(pred.reshape(1, -1))[0]\n",
    "    \n",
    "    # total results\n",
    "    res_dict = evaluate_res(rescaled_pred, y_test)\n",
    "    # results for each day\n",
    "    pred_act = pd.DataFrame(y_test, index=y_test.index)\n",
    "    pred_act['pred'] = rescaled_pred\n",
    "    results_rf = []\n",
    "    for d in days:\n",
    "        results_rf.append(evaluate_res(pred_act[pred_act.index <= d]['adj close'], \n",
    "                                       pred_act[pred_act.index <= d]['pred']))\n",
    "    res_df = pd.DataFrame(data=results_rf, index=days).T\n",
    "    \n",
    "    # results by sectors\n",
    "    test_df = pd.concat([pred_act, X_test], axis=1)\n",
    "    test_df['gics sector'] = enc_dict['gics sector'].inverse_transform(test_df['gics sector'])\n",
    "    test_df['symbol'] = enc_dict['symbol'].inverse_transform(test_df['symbol'])\n",
    "    test_df['gics sub-industry'] = enc_dict['gics sub-industry'].inverse_transform(test_df['gics sub-industry'])\n",
    "    results_rf_sec = []\n",
    "    sectors = sorted(test_df['gics sector'].unique())\n",
    "    for sec in sectors:\n",
    "        a = test_df[test_df['gics sector'] == sec]\n",
    "        results_rf_sec.append(evaluate_res(a['adj close'], a['pred']))\n",
    "    res_sec = pd.DataFrame(data=results_rf_sec, index=sectors).sort_values(by='MAPE').T\n",
    "    \n",
    "    return rf, res_dict, res_df, res_sec\n"
   ]
  },
  {
   "cell_type": "code",
   "execution_count": 14,
   "metadata": {},
   "outputs": [],
   "source": [
    "def calc_feat_imp(rf, features):\n",
    "    \"\"\"get table with features' importances\"\"\"\n",
    "    importances = rf.feature_importances_.tolist()\n",
    "    imp_tab = pd.DataFrame(data={'importance': importances}, index=features, \n",
    "                          ).sort_values(by='importance', ascending=False)\n",
    "\n",
    "    return imp_tab \n",
    "    "
   ]
  },
  {
   "cell_type": "code",
   "execution_count": 15,
   "metadata": {
    "id": "EzD4bdB9vuhV"
   },
   "outputs": [],
   "source": [
    "cols = ['open', 'high', 'low', 'close', 'volume', 'ma_7_adj close_norm']\n",
    "df_rf = dff.set_index(keys='date', drop=True).drop(cols, axis=1)"
   ]
  },
  {
   "cell_type": "code",
   "execution_count": 16,
   "metadata": {},
   "outputs": [],
   "source": [
    "train = df_rf[:'2023-02-28']\n",
    "test = df_rf['2023-03-01':'2023-03-09']\n",
    "\n",
    "X_train = train.drop(['adj close', 'adj close_norm'], axis=1)\n",
    "y_train = train['adj close_norm']\n",
    "X_test = test.drop(['adj close', 'adj close_norm'], axis=1)\n",
    "y_test = test['adj close']"
   ]
  },
  {
   "cell_type": "markdown",
   "metadata": {
    "id": "gVsY9bMbvuhW"
   },
   "source": [
    "#### Using Optuna for parameters' tuning"
   ]
  },
  {
   "cell_type": "code",
   "execution_count": 17,
   "metadata": {
    "id": "dgDRKky2vuhW"
   },
   "outputs": [],
   "source": [
    "def objective(trial):\n",
    "    params = {\n",
    "        \"random_state\": 42,\n",
    "        #\"criterion\": \"absolute_error\",\n",
    "        \"n_estimators\": trial.suggest_int(\"n_estimators\", 50, 300),\n",
    "        \"max_depth\": trial.suggest_int(\"max_depth\", 10, 50)\n",
    "        }\n",
    "\n",
    "    rf = RandomForestRegressor(**params)\n",
    "    rf.fit(X_train, y_train)\n",
    "    \n",
    "    pred = rf.predict(X_test)\n",
    "    rescaled_pred = enc_dict['scaler'].inverse_transform(pred.reshape(1, -1))[0]\n",
    "    \n",
    "    return -mean_squared_error(rescaled_pred, y_test)"
   ]
  },
  {
   "cell_type": "code",
   "execution_count": 18,
   "metadata": {
    "id": "eRrRTZzKvuhW",
    "outputId": "f907b683-4de5-4071-ddde-96b209301784"
   },
   "outputs": [
    {
     "name": "stderr",
     "output_type": "stream",
     "text": [
      "\u001b[32m[I 2023-06-09 10:54:52,104]\u001b[0m A new study created in memory with name: no-name-a7ce10f9-8bda-49a2-b502-16b06cec4ba8\u001b[0m\n",
      "\u001b[32m[I 2023-06-09 11:18:48,718]\u001b[0m Trial 0 finished with value: -267.9730497477978 and parameters: {'n_estimators': 76, 'max_depth': 25}. Best is trial 0 with value: -267.9730497477978.\u001b[0m\n"
     ]
    },
    {
     "name": "stdout",
     "output_type": "stream",
     "text": [
      "CPU times: user 23min 27s, sys: 5.71 s, total: 23min 32s\n",
      "Wall time: 23min 56s\n"
     ]
    }
   ],
   "source": [
    "%%time\n",
    "\n",
    "study = optuna.create_study(direction=\"maximize\")\n",
    "study.optimize(objective, n_trials=100, timeout=60)"
   ]
  },
  {
   "cell_type": "code",
   "execution_count": 19,
   "metadata": {
    "id": "na8Ayt5zvuhW",
    "outputId": "fd08e35a-f935-4987-f27f-b324896218cb"
   },
   "outputs": [
    {
     "name": "stdout",
     "output_type": "stream",
     "text": [
      "Number of finished trials: 1\n",
      "Best trial:\n",
      "  Value: -267.9730497477978\n",
      "  Params: \n",
      "    n_estimators: 76\n",
      "    max_depth: 25\n"
     ]
    }
   ],
   "source": [
    "print(\"Number of finished trials: {}\".format(len(study.trials)))\n",
    "print(\"Best trial:\")\n",
    "trial = study.best_trial\n",
    "print(\"  Value: {}\".format(trial.value))\n",
    "\n",
    "print(\"  Params: \")\n",
    "for key, value in trial.params.items():\n",
    "    print(\"    {}: {}\".format(key, value))"
   ]
  },
  {
   "cell_type": "markdown",
   "metadata": {
    "id": "OZfu6cm2vuhW",
    "outputId": "f85cc958-2060-4140-8450-6c49e7367e8f"
   },
   "source": [
    "%%time\n",
    "\n",
    "rf_opt = RandomForestRegressor(**trial.params)\n",
    "rf_opt.fit(X_train, y_train)"
   ]
  },
  {
   "cell_type": "code",
   "execution_count": 20,
   "metadata": {},
   "outputs": [
    {
     "name": "stdout",
     "output_type": "stream",
     "text": [
      "CPU times: user 23min 27s, sys: 5.52 s, total: 23min 33s\n",
      "Wall time: 23min 57s\n"
     ]
    }
   ],
   "source": [
    "%%time\n",
    "\n",
    "model_opt, ttl_scores_opt, week_scores_opt, sectors_scores_opt = training_rf(X_train, y_train, \n",
    "                                                                             X_test, y_test, \n",
    "                                                                             days, trial.params)"
   ]
  },
  {
   "cell_type": "code",
   "execution_count": 21,
   "metadata": {},
   "outputs": [
    {
     "name": "stdout",
     "output_type": "stream",
     "text": [
      "{'RMSE': 14.627, 'MAE': 5.399, 'MAPE': 0.032}\n"
     ]
    },
    {
     "data": {
      "text/html": [
       "<div>\n",
       "<style scoped>\n",
       "    .dataframe tbody tr th:only-of-type {\n",
       "        vertical-align: middle;\n",
       "    }\n",
       "\n",
       "    .dataframe tbody tr th {\n",
       "        vertical-align: top;\n",
       "    }\n",
       "\n",
       "    .dataframe thead th {\n",
       "        text-align: right;\n",
       "    }\n",
       "</style>\n",
       "<table border=\"1\" class=\"dataframe\">\n",
       "  <thead>\n",
       "    <tr style=\"text-align: right;\">\n",
       "      <th></th>\n",
       "      <th>2023-03-01</th>\n",
       "      <th>2023-03-02</th>\n",
       "      <th>2023-03-03</th>\n",
       "      <th>2023-03-06</th>\n",
       "      <th>2023-03-07</th>\n",
       "      <th>2023-03-08</th>\n",
       "      <th>2023-03-09</th>\n",
       "    </tr>\n",
       "  </thead>\n",
       "  <tbody>\n",
       "    <tr>\n",
       "      <th>RMSE</th>\n",
       "      <td>11.532</td>\n",
       "      <td>13.594</td>\n",
       "      <td>14.546</td>\n",
       "      <td>14.729</td>\n",
       "      <td>14.692</td>\n",
       "      <td>14.767</td>\n",
       "      <td>14.627</td>\n",
       "    </tr>\n",
       "    <tr>\n",
       "      <th>MAE</th>\n",
       "      <td>5.821</td>\n",
       "      <td>5.482</td>\n",
       "      <td>5.653</td>\n",
       "      <td>5.582</td>\n",
       "      <td>5.526</td>\n",
       "      <td>5.459</td>\n",
       "      <td>5.399</td>\n",
       "    </tr>\n",
       "    <tr>\n",
       "      <th>MAPE</th>\n",
       "      <td>0.038</td>\n",
       "      <td>0.034</td>\n",
       "      <td>0.033</td>\n",
       "      <td>0.032</td>\n",
       "      <td>0.032</td>\n",
       "      <td>0.031</td>\n",
       "      <td>0.031</td>\n",
       "    </tr>\n",
       "  </tbody>\n",
       "</table>\n",
       "</div>"
      ],
      "text/plain": [
       "      2023-03-01  2023-03-02  2023-03-03  2023-03-06  2023-03-07  2023-03-08  \\\n",
       "RMSE      11.532      13.594      14.546      14.729      14.692      14.767   \n",
       "MAE        5.821       5.482       5.653       5.582       5.526       5.459   \n",
       "MAPE       0.038       0.034       0.033       0.032       0.032       0.031   \n",
       "\n",
       "      2023-03-09  \n",
       "RMSE      14.627  \n",
       "MAE        5.399  \n",
       "MAPE       0.031  "
      ]
     },
     "metadata": {},
     "output_type": "display_data"
    },
    {
     "data": {
      "text/html": [
       "<div>\n",
       "<style scoped>\n",
       "    .dataframe tbody tr th:only-of-type {\n",
       "        vertical-align: middle;\n",
       "    }\n",
       "\n",
       "    .dataframe tbody tr th {\n",
       "        vertical-align: top;\n",
       "    }\n",
       "\n",
       "    .dataframe thead th {\n",
       "        text-align: right;\n",
       "    }\n",
       "</style>\n",
       "<table border=\"1\" class=\"dataframe\">\n",
       "  <thead>\n",
       "    <tr style=\"text-align: right;\">\n",
       "      <th></th>\n",
       "      <th>Consumer Staples</th>\n",
       "      <th>Industrials</th>\n",
       "      <th>Utilities</th>\n",
       "      <th>Financials</th>\n",
       "      <th>Real Estate</th>\n",
       "      <th>Health Care</th>\n",
       "      <th>Materials</th>\n",
       "      <th>Consumer Discretionary</th>\n",
       "      <th>Energy</th>\n",
       "      <th>Information Technology</th>\n",
       "      <th>Communication Services</th>\n",
       "    </tr>\n",
       "  </thead>\n",
       "  <tbody>\n",
       "    <tr>\n",
       "      <th>RMSE</th>\n",
       "      <td>3.940</td>\n",
       "      <td>7.479</td>\n",
       "      <td>2.804</td>\n",
       "      <td>6.535</td>\n",
       "      <td>5.697</td>\n",
       "      <td>11.711</td>\n",
       "      <td>7.048</td>\n",
       "      <td>38.038</td>\n",
       "      <td>4.079</td>\n",
       "      <td>12.600</td>\n",
       "      <td>5.476</td>\n",
       "    </tr>\n",
       "    <tr>\n",
       "      <th>MAE</th>\n",
       "      <td>2.291</td>\n",
       "      <td>4.646</td>\n",
       "      <td>2.086</td>\n",
       "      <td>4.012</td>\n",
       "      <td>3.672</td>\n",
       "      <td>6.630</td>\n",
       "      <td>4.196</td>\n",
       "      <td>12.506</td>\n",
       "      <td>2.755</td>\n",
       "      <td>7.079</td>\n",
       "      <td>3.311</td>\n",
       "    </tr>\n",
       "    <tr>\n",
       "      <th>MAPE</th>\n",
       "      <td>0.022</td>\n",
       "      <td>0.027</td>\n",
       "      <td>0.028</td>\n",
       "      <td>0.030</td>\n",
       "      <td>0.031</td>\n",
       "      <td>0.032</td>\n",
       "      <td>0.032</td>\n",
       "      <td>0.033</td>\n",
       "      <td>0.034</td>\n",
       "      <td>0.037</td>\n",
       "      <td>0.044</td>\n",
       "    </tr>\n",
       "  </tbody>\n",
       "</table>\n",
       "</div>"
      ],
      "text/plain": [
       "      Consumer Staples  Industrials  Utilities  Financials  Real Estate  \\\n",
       "RMSE             3.940        7.479      2.804       6.535        5.697   \n",
       "MAE              2.291        4.646      2.086       4.012        3.672   \n",
       "MAPE             0.022        0.027      0.028       0.030        0.031   \n",
       "\n",
       "      Health Care  Materials  Consumer Discretionary  Energy  \\\n",
       "RMSE       11.711      7.048                  38.038   4.079   \n",
       "MAE         6.630      4.196                  12.506   2.755   \n",
       "MAPE        0.032      0.032                   0.033   0.034   \n",
       "\n",
       "      Information Technology  Communication Services  \n",
       "RMSE                  12.600                   5.476  \n",
       "MAE                    7.079                   3.311  \n",
       "MAPE                   0.037                   0.044  "
      ]
     },
     "metadata": {},
     "output_type": "display_data"
    }
   ],
   "source": [
    "print(ttl_scores_opt)\n",
    "display(week_scores_opt)\n",
    "display(sectors_scores_opt)"
   ]
  },
  {
   "cell_type": "code",
   "execution_count": 22,
   "metadata": {},
   "outputs": [
    {
     "data": {
      "image/png": "[encoded data removed]",
      "text/plain": [
       "<Figure size 432x216 with 1 Axes>"
      ]
     },
     "metadata": {
      "needs_background": "light"
     },
     "output_type": "display_data"
    }
   ],
   "source": [
    "imp_tab = calc_feat_imp(model_opt, X_train.columns.tolist())\n",
    "\n",
    "idx = imp_tab.index.tolist()\n",
    "plt.figure(figsize=(6,3))\n",
    "sns.barplot(y=idx, x=imp_tab['importance'], palette=\"rocket\").set(title='Feature Importances')\n",
    "plt.show()"
   ]
  },
  {
   "cell_type": "markdown",
   "metadata": {},
   "source": [
    "#### Simple RF with lags"
   ]
  },
  {
   "cell_type": "code",
   "execution_count": 23,
   "metadata": {},
   "outputs": [
    {
     "name": "stdout",
     "output_type": "stream",
     "text": [
      "CPU times: user 41min 46s, sys: 14.6 s, total: 42min 1s\n",
      "Wall time: 42min 51s\n"
     ]
    }
   ],
   "source": [
    "%%time\n",
    "\n",
    "model1, ttl_scores, week_scores, sectors_scores = training_rf(X_train, y_train, X_test, y_test, days)"
   ]
  },
  {
   "cell_type": "code",
   "execution_count": 24,
   "metadata": {},
   "outputs": [
    {
     "name": "stdout",
     "output_type": "stream",
     "text": [
      "{'RMSE': 15.962, 'MAE': 5.581, 'MAPE': 0.032}\n"
     ]
    },
    {
     "data": {
      "text/html": [
       "<div>\n",
       "<style scoped>\n",
       "    .dataframe tbody tr th:only-of-type {\n",
       "        vertical-align: middle;\n",
       "    }\n",
       "\n",
       "    .dataframe tbody tr th {\n",
       "        vertical-align: top;\n",
       "    }\n",
       "\n",
       "    .dataframe thead th {\n",
       "        text-align: right;\n",
       "    }\n",
       "</style>\n",
       "<table border=\"1\" class=\"dataframe\">\n",
       "  <thead>\n",
       "    <tr style=\"text-align: right;\">\n",
       "      <th></th>\n",
       "      <th>2023-03-01</th>\n",
       "      <th>2023-03-02</th>\n",
       "      <th>2023-03-03</th>\n",
       "      <th>2023-03-06</th>\n",
       "      <th>2023-03-07</th>\n",
       "      <th>2023-03-08</th>\n",
       "      <th>2023-03-09</th>\n",
       "    </tr>\n",
       "  </thead>\n",
       "  <tbody>\n",
       "    <tr>\n",
       "      <th>RMSE</th>\n",
       "      <td>12.184</td>\n",
       "      <td>14.161</td>\n",
       "      <td>15.610</td>\n",
       "      <td>15.972</td>\n",
       "      <td>16.225</td>\n",
       "      <td>16.239</td>\n",
       "      <td>15.962</td>\n",
       "    </tr>\n",
       "    <tr>\n",
       "      <th>MAE</th>\n",
       "      <td>5.712</td>\n",
       "      <td>5.476</td>\n",
       "      <td>5.747</td>\n",
       "      <td>5.703</td>\n",
       "      <td>5.682</td>\n",
       "      <td>5.630</td>\n",
       "      <td>5.581</td>\n",
       "    </tr>\n",
       "    <tr>\n",
       "      <th>MAPE</th>\n",
       "      <td>0.036</td>\n",
       "      <td>0.033</td>\n",
       "      <td>0.033</td>\n",
       "      <td>0.031</td>\n",
       "      <td>0.031</td>\n",
       "      <td>0.031</td>\n",
       "      <td>0.032</td>\n",
       "    </tr>\n",
       "  </tbody>\n",
       "</table>\n",
       "</div>"
      ],
      "text/plain": [
       "      2023-03-01  2023-03-02  2023-03-03  2023-03-06  2023-03-07  2023-03-08  \\\n",
       "RMSE      12.184      14.161      15.610      15.972      16.225      16.239   \n",
       "MAE        5.712       5.476       5.747       5.703       5.682       5.630   \n",
       "MAPE       0.036       0.033       0.033       0.031       0.031       0.031   \n",
       "\n",
       "      2023-03-09  \n",
       "RMSE      15.962  \n",
       "MAE        5.581  \n",
       "MAPE       0.032  "
      ]
     },
     "metadata": {},
     "output_type": "display_data"
    },
    {
     "data": {
      "text/html": [
       "<div>\n",
       "<style scoped>\n",
       "    .dataframe tbody tr th:only-of-type {\n",
       "        vertical-align: middle;\n",
       "    }\n",
       "\n",
       "    .dataframe tbody tr th {\n",
       "        vertical-align: top;\n",
       "    }\n",
       "\n",
       "    .dataframe thead th {\n",
       "        text-align: right;\n",
       "    }\n",
       "</style>\n",
       "<table border=\"1\" class=\"dataframe\">\n",
       "  <thead>\n",
       "    <tr style=\"text-align: right;\">\n",
       "      <th></th>\n",
       "      <th>Consumer Staples</th>\n",
       "      <th>Industrials</th>\n",
       "      <th>Utilities</th>\n",
       "      <th>Financials</th>\n",
       "      <th>Real Estate</th>\n",
       "      <th>Health Care</th>\n",
       "      <th>Materials</th>\n",
       "      <th>Consumer Discretionary</th>\n",
       "      <th>Energy</th>\n",
       "      <th>Information Technology</th>\n",
       "      <th>Communication Services</th>\n",
       "    </tr>\n",
       "  </thead>\n",
       "  <tbody>\n",
       "    <tr>\n",
       "      <th>RMSE</th>\n",
       "      <td>3.694</td>\n",
       "      <td>7.497</td>\n",
       "      <td>2.804</td>\n",
       "      <td>6.369</td>\n",
       "      <td>5.684</td>\n",
       "      <td>11.973</td>\n",
       "      <td>6.826</td>\n",
       "      <td>42.667</td>\n",
       "      <td>4.113</td>\n",
       "      <td>12.894</td>\n",
       "      <td>5.939</td>\n",
       "    </tr>\n",
       "    <tr>\n",
       "      <th>MAE</th>\n",
       "      <td>2.176</td>\n",
       "      <td>4.660</td>\n",
       "      <td>2.057</td>\n",
       "      <td>3.969</td>\n",
       "      <td>3.540</td>\n",
       "      <td>6.628</td>\n",
       "      <td>4.180</td>\n",
       "      <td>14.069</td>\n",
       "      <td>2.853</td>\n",
       "      <td>7.272</td>\n",
       "      <td>3.538</td>\n",
       "    </tr>\n",
       "    <tr>\n",
       "      <th>MAPE</th>\n",
       "      <td>0.021</td>\n",
       "      <td>0.027</td>\n",
       "      <td>0.028</td>\n",
       "      <td>0.030</td>\n",
       "      <td>0.030</td>\n",
       "      <td>0.032</td>\n",
       "      <td>0.033</td>\n",
       "      <td>0.034</td>\n",
       "      <td>0.035</td>\n",
       "      <td>0.038</td>\n",
       "      <td>0.045</td>\n",
       "    </tr>\n",
       "  </tbody>\n",
       "</table>\n",
       "</div>"
      ],
      "text/plain": [
       "      Consumer Staples  Industrials  Utilities  Financials  Real Estate  \\\n",
       "RMSE             3.694        7.497      2.804       6.369        5.684   \n",
       "MAE              2.176        4.660      2.057       3.969        3.540   \n",
       "MAPE             0.021        0.027      0.028       0.030        0.030   \n",
       "\n",
       "      Health Care  Materials  Consumer Discretionary  Energy  \\\n",
       "RMSE       11.973      6.826                  42.667   4.113   \n",
       "MAE         6.628      4.180                  14.069   2.853   \n",
       "MAPE        0.032      0.033                   0.034   0.035   \n",
       "\n",
       "      Information Technology  Communication Services  \n",
       "RMSE                  12.894                   5.939  \n",
       "MAE                    7.272                   3.538  \n",
       "MAPE                   0.038                   0.045  "
      ]
     },
     "metadata": {},
     "output_type": "display_data"
    }
   ],
   "source": [
    "print(ttl_scores)\n",
    "display(week_scores)\n",
    "display(sectors_scores)"
   ]
  },
  {
   "cell_type": "code",
   "execution_count": 25,
   "metadata": {},
   "outputs": [
    {
     "data": {
      "image/png": "[encoded data removed]",
      "text/plain": [
       "<Figure size 432x216 with 1 Axes>"
      ]
     },
     "metadata": {
      "needs_background": "light"
     },
     "output_type": "display_data"
    }
   ],
   "source": [
    "imp_tab = calc_feat_imp(model1, X_train.columns.tolist())\n",
    "\n",
    "idx = imp_tab.index.tolist()\n",
    "plt.figure(figsize=(6,3))\n",
    "sns.barplot(y=idx, x=imp_tab['importance'], palette=\"rocket\").set(title='Feature Importances')\n",
    "plt.show()"
   ]
  },
  {
   "cell_type": "markdown",
   "metadata": {},
   "source": [
    "#### Simple RF with lags for 2nd week"
   ]
  },
  {
   "cell_type": "code",
   "execution_count": 30,
   "metadata": {},
   "outputs": [],
   "source": [
    "train = df_rf[:'2023-02-09']\n",
    "test = df_rf['2023-03-10':'2023-03-20']\n",
    "\n",
    "X_train = train.drop(['adj close', 'adj close_norm'], axis=1)\n",
    "y_train = train['adj close_norm']\n",
    "X_test = test.drop(['adj close', 'adj close_norm'], axis=1)\n",
    "y_test = test['adj close']"
   ]
  },
  {
   "cell_type": "code",
   "execution_count": 34,
   "metadata": {},
   "outputs": [
    {
     "name": "stdout",
     "output_type": "stream",
     "text": [
      "CPU times: user 41min 45s, sys: 16.3 s, total: 42min 1s\n",
      "Wall time: 43min 20s\n"
     ]
    }
   ],
   "source": [
    "%%time\n",
    "\n",
    "model1, ttl_scores, week_scores, sectors_scores = training_rf(X_train, y_train, X_test, y_test, days2)"
   ]
  },
  {
   "cell_type": "code",
   "execution_count": 35,
   "metadata": {},
   "outputs": [
    {
     "name": "stdout",
     "output_type": "stream",
     "text": [
      "{'RMSE': 20.261, 'MAE': 8.565, 'MAPE': 0.069}\n"
     ]
    },
    {
     "data": {
      "text/html": [
       "<div>\n",
       "<style scoped>\n",
       "    .dataframe tbody tr th:only-of-type {\n",
       "        vertical-align: middle;\n",
       "    }\n",
       "\n",
       "    .dataframe tbody tr th {\n",
       "        vertical-align: top;\n",
       "    }\n",
       "\n",
       "    .dataframe thead th {\n",
       "        text-align: right;\n",
       "    }\n",
       "</style>\n",
       "<table border=\"1\" class=\"dataframe\">\n",
       "  <thead>\n",
       "    <tr style=\"text-align: right;\">\n",
       "      <th></th>\n",
       "      <th>2023-03-10</th>\n",
       "      <th>2023-03-13</th>\n",
       "      <th>2023-03-14</th>\n",
       "      <th>2023-03-15</th>\n",
       "      <th>2023-03-16</th>\n",
       "      <th>2023-03-17</th>\n",
       "      <th>2023-03-20</th>\n",
       "    </tr>\n",
       "  </thead>\n",
       "  <tbody>\n",
       "    <tr>\n",
       "      <th>RMSE</th>\n",
       "      <td>19.214</td>\n",
       "      <td>17.853</td>\n",
       "      <td>17.001</td>\n",
       "      <td>16.967</td>\n",
       "      <td>17.815</td>\n",
       "      <td>19.415</td>\n",
       "      <td>20.261</td>\n",
       "    </tr>\n",
       "    <tr>\n",
       "      <th>MAE</th>\n",
       "      <td>7.226</td>\n",
       "      <td>7.741</td>\n",
       "      <td>7.847</td>\n",
       "      <td>8.343</td>\n",
       "      <td>8.378</td>\n",
       "      <td>8.710</td>\n",
       "      <td>8.565</td>\n",
       "    </tr>\n",
       "    <tr>\n",
       "      <th>MAPE</th>\n",
       "      <td>0.049</td>\n",
       "      <td>0.056</td>\n",
       "      <td>0.058</td>\n",
       "      <td>0.062</td>\n",
       "      <td>0.062</td>\n",
       "      <td>0.064</td>\n",
       "      <td>0.062</td>\n",
       "    </tr>\n",
       "  </tbody>\n",
       "</table>\n",
       "</div>"
      ],
      "text/plain": [
       "      2023-03-10  2023-03-13  2023-03-14  2023-03-15  2023-03-16  2023-03-17  \\\n",
       "RMSE      19.214      17.853      17.001      16.967      17.815      19.415   \n",
       "MAE        7.226       7.741       7.847       8.343       8.378       8.710   \n",
       "MAPE       0.049       0.056       0.058       0.062       0.062       0.064   \n",
       "\n",
       "      2023-03-20  \n",
       "RMSE      20.261  \n",
       "MAE        8.565  \n",
       "MAPE       0.062  "
      ]
     },
     "metadata": {},
     "output_type": "display_data"
    },
    {
     "data": {
      "text/html": [
       "<div>\n",
       "<style scoped>\n",
       "    .dataframe tbody tr th:only-of-type {\n",
       "        vertical-align: middle;\n",
       "    }\n",
       "\n",
       "    .dataframe tbody tr th {\n",
       "        vertical-align: top;\n",
       "    }\n",
       "\n",
       "    .dataframe thead th {\n",
       "        text-align: right;\n",
       "    }\n",
       "</style>\n",
       "<table border=\"1\" class=\"dataframe\">\n",
       "  <thead>\n",
       "    <tr style=\"text-align: right;\">\n",
       "      <th></th>\n",
       "      <th>Utilities</th>\n",
       "      <th>Consumer Staples</th>\n",
       "      <th>Health Care</th>\n",
       "      <th>Information Technology</th>\n",
       "      <th>Communication Services</th>\n",
       "      <th>Industrials</th>\n",
       "      <th>Real Estate</th>\n",
       "      <th>Consumer Discretionary</th>\n",
       "      <th>Materials</th>\n",
       "      <th>Energy</th>\n",
       "      <th>Financials</th>\n",
       "    </tr>\n",
       "  </thead>\n",
       "  <tbody>\n",
       "    <tr>\n",
       "      <th>RMSE</th>\n",
       "      <td>2.091</td>\n",
       "      <td>4.686</td>\n",
       "      <td>10.978</td>\n",
       "      <td>12.685</td>\n",
       "      <td>7.532</td>\n",
       "      <td>15.395</td>\n",
       "      <td>8.343</td>\n",
       "      <td>51.412</td>\n",
       "      <td>13.615</td>\n",
       "      <td>9.129</td>\n",
       "      <td>16.128</td>\n",
       "    </tr>\n",
       "    <tr>\n",
       "      <th>MAE</th>\n",
       "      <td>1.545</td>\n",
       "      <td>3.184</td>\n",
       "      <td>7.578</td>\n",
       "      <td>8.192</td>\n",
       "      <td>4.318</td>\n",
       "      <td>9.388</td>\n",
       "      <td>6.387</td>\n",
       "      <td>15.283</td>\n",
       "      <td>9.947</td>\n",
       "      <td>7.222</td>\n",
       "      <td>11.893</td>\n",
       "    </tr>\n",
       "    <tr>\n",
       "      <th>MAPE</th>\n",
       "      <td>0.024</td>\n",
       "      <td>0.029</td>\n",
       "      <td>0.039</td>\n",
       "      <td>0.046</td>\n",
       "      <td>0.056</td>\n",
       "      <td>0.058</td>\n",
       "      <td>0.065</td>\n",
       "      <td>0.067</td>\n",
       "      <td>0.083</td>\n",
       "      <td>0.094</td>\n",
       "      <td>0.113</td>\n",
       "    </tr>\n",
       "  </tbody>\n",
       "</table>\n",
       "</div>"
      ],
      "text/plain": [
       "      Utilities  Consumer Staples  Health Care  Information Technology  \\\n",
       "RMSE      2.091             4.686       10.978                  12.685   \n",
       "MAE       1.545             3.184        7.578                   8.192   \n",
       "MAPE      0.024             0.029        0.039                   0.046   \n",
       "\n",
       "      Communication Services  Industrials  Real Estate  \\\n",
       "RMSE                   7.532       15.395        8.343   \n",
       "MAE                    4.318        9.388        6.387   \n",
       "MAPE                   0.056        0.058        0.065   \n",
       "\n",
       "      Consumer Discretionary  Materials  Energy  Financials  \n",
       "RMSE                  51.412     13.615   9.129      16.128  \n",
       "MAE                   15.283      9.947   7.222      11.893  \n",
       "MAPE                   0.067      0.083   0.094       0.113  "
      ]
     },
     "metadata": {},
     "output_type": "display_data"
    }
   ],
   "source": [
    "print(ttl_scores)\n",
    "display(week_scores)\n",
    "display(sectors_scores)"
   ]
  },
  {
   "cell_type": "markdown",
   "metadata": {},
   "source": [
    "#### Simple RF without TS features"
   ]
  },
  {
   "cell_type": "code",
   "execution_count": 26,
   "metadata": {},
   "outputs": [],
   "source": [
    "cat_cols = ['symbol', 'gics sector', 'gics sub-industry', 'year', 'month', 'day']\n",
    "X_train = train.drop(['adj close', 'adj close_norm'], axis=1)[cat_cols]\n",
    "y_train = train['adj close_norm']\n",
    "X_test = test.drop(['adj close', 'adj close_norm'], axis=1)[cat_cols]\n",
    "y_test = test['adj close']"
   ]
  },
  {
   "cell_type": "code",
   "execution_count": 27,
   "metadata": {},
   "outputs": [
    {
     "name": "stdout",
     "output_type": "stream",
     "text": [
      "CPU times: user 4min 44s, sys: 5.85 s, total: 4min 50s\n",
      "Wall time: 5min 10s\n"
     ]
    }
   ],
   "source": [
    "%%time\n",
    "\n",
    "model2, ttl_scores, week_scores, sectors_scores = training_rf(X_train, y_train, X_test, y_test, days)"
   ]
  },
  {
   "cell_type": "code",
   "execution_count": 28,
   "metadata": {},
   "outputs": [
    {
     "name": "stdout",
     "output_type": "stream",
     "text": [
      "{'RMSE': 23.087, 'MAE': 5.634, 'MAPE': 0.033}\n"
     ]
    },
    {
     "data": {
      "text/html": [
       "<div>\n",
       "<style scoped>\n",
       "    .dataframe tbody tr th:only-of-type {\n",
       "        vertical-align: middle;\n",
       "    }\n",
       "\n",
       "    .dataframe tbody tr th {\n",
       "        vertical-align: top;\n",
       "    }\n",
       "\n",
       "    .dataframe thead th {\n",
       "        text-align: right;\n",
       "    }\n",
       "</style>\n",
       "<table border=\"1\" class=\"dataframe\">\n",
       "  <thead>\n",
       "    <tr style=\"text-align: right;\">\n",
       "      <th></th>\n",
       "      <th>2023-03-01</th>\n",
       "      <th>2023-03-02</th>\n",
       "      <th>2023-03-03</th>\n",
       "      <th>2023-03-06</th>\n",
       "      <th>2023-03-07</th>\n",
       "      <th>2023-03-08</th>\n",
       "      <th>2023-03-09</th>\n",
       "    </tr>\n",
       "  </thead>\n",
       "  <tbody>\n",
       "    <tr>\n",
       "      <th>RMSE</th>\n",
       "      <td>14.909</td>\n",
       "      <td>15.433</td>\n",
       "      <td>17.115</td>\n",
       "      <td>20.175</td>\n",
       "      <td>21.955</td>\n",
       "      <td>23.215</td>\n",
       "      <td>23.087</td>\n",
       "    </tr>\n",
       "    <tr>\n",
       "      <th>MAE</th>\n",
       "      <td>3.234</td>\n",
       "      <td>3.535</td>\n",
       "      <td>4.202</td>\n",
       "      <td>4.805</td>\n",
       "      <td>5.156</td>\n",
       "      <td>5.461</td>\n",
       "      <td>5.634</td>\n",
       "    </tr>\n",
       "    <tr>\n",
       "      <th>MAPE</th>\n",
       "      <td>0.019</td>\n",
       "      <td>0.020</td>\n",
       "      <td>0.024</td>\n",
       "      <td>0.027</td>\n",
       "      <td>0.030</td>\n",
       "      <td>0.032</td>\n",
       "      <td>0.033</td>\n",
       "    </tr>\n",
       "  </tbody>\n",
       "</table>\n",
       "</div>"
      ],
      "text/plain": [
       "      2023-03-01  2023-03-02  2023-03-03  2023-03-06  2023-03-07  2023-03-08  \\\n",
       "RMSE      14.909      15.433      17.115      20.175      21.955      23.215   \n",
       "MAE        3.234       3.535       4.202       4.805       5.156       5.461   \n",
       "MAPE       0.019       0.020       0.024       0.027       0.030       0.032   \n",
       "\n",
       "      2023-03-09  \n",
       "RMSE      23.087  \n",
       "MAE        5.634  \n",
       "MAPE       0.033  "
      ]
     },
     "metadata": {},
     "output_type": "display_data"
    },
    {
     "data": {
      "text/html": [
       "<div>\n",
       "<style scoped>\n",
       "    .dataframe tbody tr th:only-of-type {\n",
       "        vertical-align: middle;\n",
       "    }\n",
       "\n",
       "    .dataframe tbody tr th {\n",
       "        vertical-align: top;\n",
       "    }\n",
       "\n",
       "    .dataframe thead th {\n",
       "        text-align: right;\n",
       "    }\n",
       "</style>\n",
       "<table border=\"1\" class=\"dataframe\">\n",
       "  <thead>\n",
       "    <tr style=\"text-align: right;\">\n",
       "      <th></th>\n",
       "      <th>Real Estate</th>\n",
       "      <th>Consumer Staples</th>\n",
       "      <th>Communication Services</th>\n",
       "      <th>Energy</th>\n",
       "      <th>Health Care</th>\n",
       "      <th>Utilities</th>\n",
       "      <th>Information Technology</th>\n",
       "      <th>Financials</th>\n",
       "      <th>Industrials</th>\n",
       "      <th>Materials</th>\n",
       "      <th>Consumer Discretionary</th>\n",
       "    </tr>\n",
       "  </thead>\n",
       "  <tbody>\n",
       "    <tr>\n",
       "      <th>RMSE</th>\n",
       "      <td>3.845</td>\n",
       "      <td>4.648</td>\n",
       "      <td>4.673</td>\n",
       "      <td>3.525</td>\n",
       "      <td>10.575</td>\n",
       "      <td>3.994</td>\n",
       "      <td>11.560</td>\n",
       "      <td>6.919</td>\n",
       "      <td>8.600</td>\n",
       "      <td>5.454</td>\n",
       "      <td>67.250</td>\n",
       "    </tr>\n",
       "    <tr>\n",
       "      <th>MAE</th>\n",
       "      <td>2.480</td>\n",
       "      <td>2.539</td>\n",
       "      <td>2.470</td>\n",
       "      <td>2.475</td>\n",
       "      <td>5.881</td>\n",
       "      <td>2.403</td>\n",
       "      <td>5.794</td>\n",
       "      <td>4.287</td>\n",
       "      <td>4.983</td>\n",
       "      <td>3.614</td>\n",
       "      <td>17.554</td>\n",
       "    </tr>\n",
       "    <tr>\n",
       "      <th>MAPE</th>\n",
       "      <td>0.022</td>\n",
       "      <td>0.024</td>\n",
       "      <td>0.028</td>\n",
       "      <td>0.029</td>\n",
       "      <td>0.029</td>\n",
       "      <td>0.030</td>\n",
       "      <td>0.032</td>\n",
       "      <td>0.034</td>\n",
       "      <td>0.035</td>\n",
       "      <td>0.036</td>\n",
       "      <td>0.055</td>\n",
       "    </tr>\n",
       "  </tbody>\n",
       "</table>\n",
       "</div>"
      ],
      "text/plain": [
       "      Real Estate  Consumer Staples  Communication Services  Energy  \\\n",
       "RMSE        3.845             4.648                   4.673   3.525   \n",
       "MAE         2.480             2.539                   2.470   2.475   \n",
       "MAPE        0.022             0.024                   0.028   0.029   \n",
       "\n",
       "      Health Care  Utilities  Information Technology  Financials  Industrials  \\\n",
       "RMSE       10.575      3.994                  11.560       6.919        8.600   \n",
       "MAE         5.881      2.403                   5.794       4.287        4.983   \n",
       "MAPE        0.029      0.030                   0.032       0.034        0.035   \n",
       "\n",
       "      Materials  Consumer Discretionary  \n",
       "RMSE      5.454                  67.250  \n",
       "MAE       3.614                  17.554  \n",
       "MAPE      0.036                   0.055  "
      ]
     },
     "metadata": {},
     "output_type": "display_data"
    }
   ],
   "source": [
    "print(ttl_scores)\n",
    "display(week_scores)\n",
    "display(sectors_scores)"
   ]
  },
  {
   "cell_type": "code",
   "execution_count": 29,
   "metadata": {},
   "outputs": [
    {
     "data": {
      "image/png": "[encoded data removed]",
      "text/plain": [
       "<Figure size 432x216 with 1 Axes>"
      ]
     },
     "metadata": {
      "needs_background": "light"
     },
     "output_type": "display_data"
    }
   ],
   "source": [
    "imp_tab = calc_feat_imp(model2, X_train.columns.tolist())\n",
    "\n",
    "idx = imp_tab.index.tolist()\n",
    "plt.figure(figsize=(6,3))\n",
    "sns.barplot(y=idx, x=imp_tab['importance'], palette=\"rocket\").set(title='Feature Importances')\n",
    "plt.show()"
   ]
  },
  {
   "cell_type": "markdown",
   "metadata": {
    "id": "eaW6dRmavuhX"
   },
   "source": [
    "_____________________________________________________________________________"
   ]
  },
  {
   "cell_type": "code",
   "execution_count": null,
   "metadata": {},
   "outputs": [],
   "source": []
  }
 ],
 "metadata": {
  "colab": {
   "provenance": []
  },
  "kernelspec": {
   "display_name": "Python 3",
   "language": "python",
   "name": "python3"
  },
  "language_info": {
   "codemirror_mode": {
    "name": "ipython",
    "version": 3
   },
   "file_extension": ".py",
   "mimetype": "text/x-python",
   "name": "python",
   "nbconvert_exporter": "python",
   "pygments_lexer": "ipython3",
   "version": "3.8.8"
  }
 },
 "nbformat": 4,
 "nbformat_minor": 1
}
